{
 "cells": [
  {
   "cell_type": "code",
   "execution_count": null,
   "metadata": {},
   "outputs": [],
   "source": [
    "import pandas as pd\n",
    "import csv\n",
    "import codecs\n",
    "import urllib.request\n",
    "import sys\n",
    "from datetime import datetime\n",
    "\n",
    "def round3(x, base=3, add=0):\n",
    "    return base * round(x/base) + add\n",
    "\n",
    "def lookup(high, low):\n",
    "    return df.loc[df['idx']==high][str(low)].tolist()[0]\n",
    "\n",
    "target = 950"
   ]
  },
  {
   "cell_type": "code",
   "execution_count": null,
   "metadata": {},
   "outputs": [],
   "source": [
    "# Add your zip code and Visual Crossing Weather Data API key here\n",
    "myZipCode = 00000\n",
    "myAPIKey = 'bigString'"
   ]
  },
  {
   "cell_type": "markdown",
   "metadata": {},
   "source": [
    "## Load Look-up Table for Western Cherry Fruit Fly"
   ]
  },
  {
   "cell_type": "code",
   "execution_count": null,
   "metadata": {},
   "outputs": [],
   "source": [
    "df=pd.read_csv('WesternCherryFruitFly.csv')"
   ]
  },
  {
   "cell_type": "markdown",
   "metadata": {},
   "source": [
    "## Load historical weather data"
   ]
  },
  {
   "cell_type": "code",
   "execution_count": null,
   "metadata": {},
   "outputs": [],
   "source": [
    "# This is the core of our weather query URL\n",
    "BaseURL = 'https://weather.visualcrossing.com/VisualCrossingWebServices/rest/services/weatherdata/'\n",
    "\n",
    "# Set up the location parameter for our query\n",
    "QueryLocation = f'&location={myZipCode}'\n",
    "\n",
    "# Set up the query type parameter for our query ('FORECAST' or 'HISTORY')\n",
    "QueryType='HISTORY'\n",
    "\n",
    "# Set up the key parameter for our query\n",
    "QueryKey = f'&key={myAPIKey}'\n",
    "\n",
    "# Set up the date parameters for our query. Used only for historical weather data requests\n",
    "FromDateParam = f'{datetime.now().year}-03-01'\n",
    "now = datetime.now()\n",
    "ToDateParam = now.date().isoformat()\n",
    "\n",
    "QueryDate = '&startDateTime=' + FromDateParam + 'T00:00:00&endDateTime=' +ToDateParam + 'T00:00:00'\n",
    "QueryTypeParams = 'history?&aggregateHours=24&unitGroup=us&dayStartTime=0:0:00&dayEndTime=0:0:00' + QueryDate\n",
    "\n",
    "# Build the entire query\n",
    "URL = BaseURL + QueryTypeParams + QueryLocation + QueryKey\n",
    "\n",
    "# Build the entire query\n",
    "URL = BaseURL + QueryTypeParams + QueryLocation + QueryKey\n",
    "\n",
    "# Parse the results as CSV\n",
    "CSVBytes = urllib.request.urlopen(URL)\n",
    "CSVText = csv.reader(codecs.iterdecode(CSVBytes, 'utf-8'))\n",
    "\n",
    "with open('weather.csv', mode='w') as f:\n",
    "    writer = csv.writer(f, delimiter=',', quotechar='\"', quoting=csv.QUOTE_MINIMAL)\n",
    "    for  Row in CSVText:\n",
    "        writer.writerow(Row)"
   ]
  },
  {
   "cell_type": "markdown",
   "metadata": {},
   "source": [
    "## Calculate Cherry Tree Degree Day Numbers"
   ]
  },
  {
   "cell_type": "code",
   "execution_count": null,
   "metadata": {},
   "outputs": [],
   "source": [
    "def f(x):    \n",
    "    return lookup(round3(x['Maximum Temperature'], add=1),round3(x['Minimum Temperature'])) \n",
    "\n",
    "d=pd.read_csv('weather.csv')\n",
    "\n",
    "d['CherryTree']=d.apply(lambda x: f(x), axis=1)\n",
    "print(f\"Total between {FromDateParam} and {ToDateParam}: {d['CherryTree'].sum()}\")\n",
    "      \n",
    "if d['CherryTree'].sum() < target:\n",
    "    print('Target Not Yet Reached')\n",
    "else:\n",
    "    print(f'Target Reached on {ToDateParam}: SPRAY!!')"
   ]
  },
  {
   "cell_type": "code",
   "execution_count": null,
   "metadata": {},
   "outputs": [],
   "source": []
  },
  {
   "cell_type": "code",
   "execution_count": null,
   "metadata": {},
   "outputs": [],
   "source": []
  }
 ],
 "metadata": {
  "kernelspec": {
   "display_name": "Python 3 (ipykernel)",
   "language": "python",
   "name": "python3"
  },
  "language_info": {
   "codemirror_mode": {
    "name": "ipython",
    "version": 3
   },
   "file_extension": ".py",
   "mimetype": "text/x-python",
   "name": "python",
   "nbconvert_exporter": "python",
   "pygments_lexer": "ipython3",
   "version": "3.9.7"
  }
 },
 "nbformat": 4,
 "nbformat_minor": 2
}
